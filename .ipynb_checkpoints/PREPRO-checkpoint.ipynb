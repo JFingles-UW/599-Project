{
 "cells": [
  {
   "cell_type": "markdown",
   "metadata": {},
   "source": [
    "# Task List\n",
    "\n",
    "This file should be a mix of code and text explaining what the code does\n",
    "\n",
    "1. Import the data\n",
    "2. Select the variables we're keeping\n",
    "3. Change name of variables so that it's interpretable\n",
    "4. Properly code missing values\n",
    "5. Check for pattern of missing values (imputation necessary?)\n",
    "6. Check binary variables so that they're 0/1 coded\n",
    "7. Save as .csv file to repo\n"
   ]
  },
  {
   "cell_type": "markdown",
   "metadata": {},
   "source": [
    "Import the data (stata file)"
   ]
  },
  {
   "cell_type": "code",
   "execution_count": 58,
   "metadata": {},
   "outputs": [],
   "source": [
    "import pandas as pd\n",
    "\n",
    "stataFile='https://github.com/arsell/599-Project/blob/master/raw/HNBR62FL.DTA?raw=true'"
   ]
  },
  {
   "cell_type": "code",
   "execution_count": 59,
   "metadata": {},
   "outputs": [],
   "source": [
    "DHS=pd.read_stata(stataFile,convert_categoricals=False)"
   ]
  },
  {
   "cell_type": "markdown",
   "metadata": {},
   "source": [
    "select our variables"
   ]
  },
  {
   "cell_type": "code",
   "execution_count": 60,
   "metadata": {},
   "outputs": [],
   "source": [
    "DF=pd.DataFrame(DHS[['caseid', 'v133', 'v190', 'v191', 'v025']])"
   ]
  },
  {
   "cell_type": "markdown",
   "metadata": {},
   "source": [
    "Rename our variables"
   ]
  },
  {
   "cell_type": "code",
   "execution_count": 61,
   "metadata": {},
   "outputs": [],
   "source": [
    "DF.columns=['CASEID',\n",
    "            'Education in single years', \n",
    "           'Wealth index categorical', \n",
    "           'Wealth index decimal',\n",
    "           'Type of residence']"
   ]
  },
  {
   "cell_type": "markdown",
   "metadata": {},
   "source": [
    "Check our variables for missing or improperly coded data points"
   ]
  },
  {
   "cell_type": "code",
   "execution_count": 62,
   "metadata": {},
   "outputs": [
    {
     "data": {
      "text/plain": [
       "CASEID                       object\n",
       "Education in single years      int8\n",
       "Wealth index categorical       int8\n",
       "Wealth index decimal          int32\n",
       "Type of residence              int8\n",
       "dtype: object"
      ]
     },
     "execution_count": 62,
     "metadata": {},
     "output_type": "execute_result"
    }
   ],
   "source": [
    "DF.dtypes"
   ]
  },
  {
   "cell_type": "code",
   "execution_count": 63,
   "metadata": {},
   "outputs": [
    {
     "name": "stdout",
     "output_type": "stream",
     "text": [
      "CASEID                          0\n",
      "Education in single years    6616\n",
      "Wealth index categorical        0\n",
      "Wealth index decimal            0\n",
      "Type of residence               0\n",
      "dtype: int64\n"
     ]
    }
   ],
   "source": [
    "print((DF[['CASEID','Education in single years', \n",
    "           'Wealth index categorical', \n",
    "           'Wealth index decimal',\n",
    "           'Type of residence']] == 0).sum())"
   ]
  },
  {
   "cell_type": "code",
   "execution_count": 64,
   "metadata": {
    "scrolled": true
   },
   "outputs": [
    {
     "name": "stdout",
     "output_type": "stream",
     "text": [
      "CASEID                       0\n",
      "Education in single years    3\n",
      "Wealth index categorical     0\n",
      "Wealth index decimal         0\n",
      "Type of residence            0\n",
      "dtype: int64\n"
     ]
    }
   ],
   "source": [
    "print((DF[['CASEID','Education in single years', \n",
    "           'Wealth index categorical', \n",
    "           'Wealth index decimal',\n",
    "           'Type of residence']] == 99).sum())"
   ]
  },
  {
   "cell_type": "markdown",
   "metadata": {},
   "source": [
    "Recode Type of Residence as a true binary [0,1]"
   ]
  },
  {
   "cell_type": "code",
   "execution_count": 71,
   "metadata": {},
   "outputs": [],
   "source": [
    "DF=DF[['Type of residence']].replace([1], 0)"
   ]
  },
  {
   "cell_type": "code",
   "execution_count": 72,
   "metadata": {},
   "outputs": [],
   "source": [
    "DF=DF[['Type of residence']].replace([2], 1)"
   ]
  },
  {
   "cell_type": "markdown",
   "metadata": {},
   "source": [
    "Check our coding"
   ]
  },
  {
   "cell_type": "code",
   "execution_count": 73,
   "metadata": {},
   "outputs": [
    {
     "data": {
      "text/plain": [
       "0        0\n",
       "1        0\n",
       "2        0\n",
       "3        0\n",
       "4        0\n",
       "5        0\n",
       "6        0\n",
       "7        0\n",
       "8        0\n",
       "9        0\n",
       "10       0\n",
       "11       0\n",
       "12       0\n",
       "13       0\n",
       "14       0\n",
       "15       0\n",
       "16       0\n",
       "17       0\n",
       "18       0\n",
       "19       0\n",
       "20       0\n",
       "21       0\n",
       "22       0\n",
       "23       0\n",
       "24       0\n",
       "25       0\n",
       "26       0\n",
       "27       0\n",
       "28       0\n",
       "29       0\n",
       "        ..\n",
       "49233    1\n",
       "49234    1\n",
       "49235    1\n",
       "49236    1\n",
       "49237    1\n",
       "49238    1\n",
       "49239    1\n",
       "49240    1\n",
       "49241    1\n",
       "49242    1\n",
       "49243    1\n",
       "49244    1\n",
       "49245    1\n",
       "49246    1\n",
       "49247    1\n",
       "49248    1\n",
       "49249    1\n",
       "49250    1\n",
       "49251    1\n",
       "49252    1\n",
       "49253    1\n",
       "49254    1\n",
       "49255    1\n",
       "49256    1\n",
       "49257    1\n",
       "49258    1\n",
       "49259    1\n",
       "49260    1\n",
       "49261    1\n",
       "49262    1\n",
       "Name: Type of residence, Length: 49263, dtype: int64"
      ]
     },
     "execution_count": 73,
     "metadata": {},
     "output_type": "execute_result"
    }
   ],
   "source": [
    "DF['Type of residence']"
   ]
  },
  {
   "cell_type": "markdown",
   "metadata": {},
   "source": [
    "export our cleaned data to a .csv file"
   ]
  },
  {
   "cell_type": "code",
   "execution_count": null,
   "metadata": {},
   "outputs": [],
   "source": [
    "DF.to_csv(\"cleaneddata2.csv\",index=None)"
   ]
  }
 ],
 "metadata": {
  "kernelspec": {
   "display_name": "Python 3",
   "language": "python",
   "name": "python3"
  },
  "language_info": {
   "codemirror_mode": {
    "name": "ipython",
    "version": 3
   },
   "file_extension": ".py",
   "mimetype": "text/x-python",
   "name": "python",
   "nbconvert_exporter": "python",
   "pygments_lexer": "ipython3",
   "version": "3.7.1"
  }
 },
 "nbformat": 4,
 "nbformat_minor": 2
}
