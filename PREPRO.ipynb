{
 "cells": [
  {
   "cell_type": "markdown",
   "metadata": {},
   "source": [
    "# Task List\n",
    "\n",
    "This file should be a mix of code and text explaining what the code does\n",
    "\n",
    "1. Import the data\n",
    "2. Select the variables we're keeping\n",
    "3. Change name of variables so that it's interpretable\n",
    "4. Properly code missing values\n",
    "5. Check for pattern of missing values (imputation necessary?)\n",
    "6. Check binary variables so that they're 0/1 coded\n",
    "7. Save as .csv file to repo\n"
   ]
  },
  {
   "cell_type": "markdown",
   "metadata": {},
   "source": [
    "Import the data (stata file)"
   ]
  },
  {
   "cell_type": "code",
   "execution_count": 58,
   "metadata": {},
   "outputs": [],
   "source": [
    "import pandas as pd\n",
    "\n",
    "stataFile='https://github.com/arsell/599-Project/blob/master/raw/HNBR62FL.DTA?raw=true'"
   ]
  },
  {
   "cell_type": "code",
   "execution_count": 59,
   "metadata": {},
   "outputs": [],
   "source": [
    "DHS=pd.read_stata(stataFile,convert_categoricals=False)"
   ]
  },
  {
   "cell_type": "markdown",
   "metadata": {},
   "source": [
    "select our variables"
   ]
  },
  {
   "cell_type": "code",
   "execution_count": 60,
   "metadata": {},
   "outputs": [],
   "source": [
    "DF=pd.DataFrame(DHS[['caseid', 'v133', 'v190', 'v191', 'v025']])"
   ]
  },
  {
   "cell_type": "markdown",
   "metadata": {},
   "source": [
    "Rename our variables"
   ]
  },
  {
   "cell_type": "code",
   "execution_count": 61,
   "metadata": {},
   "outputs": [],
   "source": [
    "DF.columns=['CASEID',\n",
    "            'Education in single years', \n",
    "           'Wealth index categorical', \n",
    "           'Wealth index decimal',\n",
    "           'Type of residence']"
   ]
  },
  {
   "cell_type": "markdown",
   "metadata": {},
   "source": [
    "Check our variables for missing or improperly coded data points"
   ]
  },
  {
   "cell_type": "code",
   "execution_count": 62,
   "metadata": {},
   "outputs": [
    {
     "data": {
      "text/plain": [
       "CASEID                       object\n",
       "Education in single years      int8\n",
       "Wealth index categorical       int8\n",
       "Wealth index decimal          int32\n",
       "Type of residence              int8\n",
       "dtype: object"
      ]
     },
     "execution_count": 62,
     "metadata": {},
     "output_type": "execute_result"
    }
   ],
   "source": [
    "DF.dtypes"
   ]
  },
  {
   "cell_type": "code",
   "execution_count": 63,
   "metadata": {},
   "outputs": [
    {
     "name": "stdout",
     "output_type": "stream",
     "text": [
      "CASEID                          0\n",
      "Education in single years    6616\n",
      "Wealth index categorical        0\n",
      "Wealth index decimal            0\n",
      "Type of residence               0\n",
      "dtype: int64\n"
     ]
    }
   ],
   "source": [
    "print((DF[['CASEID','Education in single years', \n",
    "           'Wealth index categorical', \n",
    "           'Wealth index decimal',\n",
    "           'Type of residence']] == 0).sum())"
   ]
  },
  {
   "cell_type": "code",
   "execution_count": 64,
   "metadata": {
    "scrolled": true
   },
   "outputs": [
    {
     "name": "stdout",
     "output_type": "stream",
     "text": [
      "CASEID                       0\n",
      "Education in single years    3\n",
      "Wealth index categorical     0\n",
      "Wealth index decimal         0\n",
      "Type of residence            0\n",
      "dtype: int64\n"
     ]
    }
   ],
   "source": [
    "print((DF[['CASEID','Education in single years', \n",
    "           'Wealth index categorical', \n",
    "           'Wealth index decimal',\n",
    "           'Type of residence']] == 99).sum())"
   ]
  },
  {
   "cell_type": "markdown",
   "metadata": {},
   "source": [
    "Recode Type of Residence as a true binary [0,1]"
   ]
  },
  {
   "cell_type": "code",
   "execution_count": null,
   "metadata": {},
   "outputs": [],
   "source": []
  },
  {
   "cell_type": "code",
   "execution_count": 68,
   "metadata": {},
   "outputs": [],
   "source": [
    "DF=DF[['Type of residence']].replace(['1'], 0)"
   ]
  },
  {
   "cell_type": "code",
   "execution_count": 69,
   "metadata": {},
   "outputs": [],
   "source": [
    "DF=DF[['Type of residence']].replace(['2'], 1)"
   ]
  },
  {
   "cell_type": "code",
   "execution_count": 70,
   "metadata": {},
   "outputs": [
    {
     "data": {
      "text/plain": [
       "0        1\n",
       "1        1\n",
       "2        1\n",
       "3        1\n",
       "4        1\n",
       "5        1\n",
       "6        1\n",
       "7        1\n",
       "8        1\n",
       "9        1\n",
       "10       1\n",
       "11       1\n",
       "12       1\n",
       "13       1\n",
       "14       1\n",
       "15       1\n",
       "16       1\n",
       "17       1\n",
       "18       1\n",
       "19       1\n",
       "20       1\n",
       "21       1\n",
       "22       1\n",
       "23       1\n",
       "24       1\n",
       "25       1\n",
       "26       1\n",
       "27       1\n",
       "28       1\n",
       "29       1\n",
       "        ..\n",
       "49233    2\n",
       "49234    2\n",
       "49235    2\n",
       "49236    2\n",
       "49237    2\n",
       "49238    2\n",
       "49239    2\n",
       "49240    2\n",
       "49241    2\n",
       "49242    2\n",
       "49243    2\n",
       "49244    2\n",
       "49245    2\n",
       "49246    2\n",
       "49247    2\n",
       "49248    2\n",
       "49249    2\n",
       "49250    2\n",
       "49251    2\n",
       "49252    2\n",
       "49253    2\n",
       "49254    2\n",
       "49255    2\n",
       "49256    2\n",
       "49257    2\n",
       "49258    2\n",
       "49259    2\n",
       "49260    2\n",
       "49261    2\n",
       "49262    2\n",
       "Name: Type of residence, Length: 49263, dtype: int64"
      ]
     },
     "execution_count": 70,
     "metadata": {},
     "output_type": "execute_result"
    }
   ],
   "source": [
    "DF['Type of residence']"
   ]
  },
  {
   "cell_type": "code",
   "execution_count": null,
   "metadata": {},
   "outputs": [],
   "source": []
  }
 ],
 "metadata": {
  "kernelspec": {
   "display_name": "Python 3",
   "language": "python",
   "name": "python3"
  },
  "language_info": {
   "codemirror_mode": {
    "name": "ipython",
    "version": 3
   },
   "file_extension": ".py",
   "mimetype": "text/x-python",
   "name": "python",
   "nbconvert_exporter": "python",
   "pygments_lexer": "ipython3",
   "version": "3.7.1"
  }
 },
 "nbformat": 4,
 "nbformat_minor": 2
}
